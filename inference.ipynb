{
 "cells": [
  {
   "cell_type": "code",
   "execution_count": 67,
   "metadata": {},
   "outputs": [
    {
     "name": "stdout",
     "output_type": "stream",
     "text": [
      "Image shape (64, 64)\n"
     ]
    },
    {
     "data": {
      "image/png": "[encoded data removed]",
      "text/plain": [
       "<PIL.JpegImagePlugin.JpegImageFile image mode=L size=64x64 at 0x1F7057D1670>"
      ]
     },
     "execution_count": 67,
     "metadata": {},
     "output_type": "execute_result"
    }
   ],
   "source": [
    "import cv2\n",
    "import albumentations as A\n",
    "\n",
    "\n",
    "# Display image from path\n",
    "def display_image(image_path):\n",
    "    from PIL import Image\n",
    "    return Image.open(image_path)\n",
    "\n",
    "# Read an image to array\n",
    "def get_image_arr(image_pth):\n",
    "    return cv2.imread(image_pth)\n",
    "    \n",
    "# Transform an image to fit the inference model\n",
    "def image_transform(image, transform):\n",
    "    image = cv2.cvtColor(image, cv2.COLOR_BGR2GRAY)\n",
    "    return transform(image=image)['image']\n",
    "\n",
    "transform = A.Compose([\n",
    "    A.Resize(64, 64),\n",
    "    A.Normalize(0.449, 0.226)\n",
    "])\n",
    "\n",
    "# Define label map {id -> name}\n",
    "label2id = {'non-smile':0, 'smile':1}\n",
    "id2label = {v:k for k,v in label2id.items()}\n",
    "labels = list(label2id.keys())\n",
    "\n",
    "image_path = './static/image/1.jpg'\n",
    "image = get_image_arr(image_path)\n",
    "image = image_transform(image, transform)\n",
    "print(\"Image shape\", image.shape)\n",
    "\n",
    "display_image(image_path)"
   ]
  },
  {
   "cell_type": "code",
   "execution_count": 68,
   "metadata": {},
   "outputs": [
    {
     "data": {
      "text/plain": [
       "torch.Size([1, 1, 64, 64])"
      ]
     },
     "execution_count": 68,
     "metadata": {},
     "output_type": "execute_result"
    }
   ],
   "source": [
    "# Get device and convert image array to tensor\n",
    "import torch\n",
    "device = 'cuda' if torch.cuda.is_available() else 'cpu'\n",
    "image = torch.tensor(image).unsqueeze(0).unsqueeze(0).to(device)\n",
    "image.shape"
   ]
  },
  {
   "cell_type": "code",
   "execution_count": 69,
   "metadata": {},
   "outputs": [
    {
     "data": {
      "text/plain": [
       "tensor([[ 0.5601, -0.5327]], device='cuda:0', grad_fn=<AddmmBackward0>)"
      ]
     },
     "execution_count": 69,
     "metadata": {},
     "output_type": "execute_result"
    }
   ],
   "source": [
    "# Load the inference model\n",
    "from inference.model import *\n",
    "inference_model = torch.load('static/saved_models/vgg_inference.pt')\n",
    "inference_model.eval()\n",
    "inference_model.to(device)\n",
    "\n",
    "# Warm up\n",
    "inference_model(torch.randn(1,1,64,64).to(device))"
   ]
  },
  {
   "cell_type": "code",
   "execution_count": 70,
   "metadata": {},
   "outputs": [
    {
     "name": "stdout",
     "output_type": "stream",
     "text": [
      "{'non-smile': 0.5134626030921936, 'smile': 0.4885599613189697}\n"
     ]
    }
   ],
   "source": [
    "# Get outputs and normalize\n",
    "probs = torch.sigmoid(inference_model(image))[0].tolist()\n",
    "probs_map = {k:v for k, v in zip(labels, probs)}\n",
    "print(probs_map)"
   ]
  }
 ],
 "metadata": {
  "kernelspec": {
   "display_name": "Python 3.9.7 ('base')",
   "language": "python",
   "name": "python3"
  },
  "language_info": {
   "codemirror_mode": {
    "name": "ipython",
    "version": 3
   },
   "file_extension": ".py",
   "mimetype": "text/x-python",
   "name": "python",
   "nbconvert_exporter": "python",
   "pygments_lexer": "ipython3",
   "version": "3.9.7"
  },
  "orig_nbformat": 4,
  "vscode": {
   "interpreter": {
    "hash": "511e198c7044f4fa1c9fb6786af37bc0803f028a2364c2b1dc987f96133f7904"
   }
  }
 },
 "nbformat": 4,
 "nbformat_minor": 2
}
